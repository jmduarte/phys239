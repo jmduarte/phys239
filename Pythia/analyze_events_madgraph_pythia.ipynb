{
 "cells": [
  {
   "cell_type": "code",
   "execution_count": null,
   "metadata": {},
   "outputs": [],
   "source": [
    "import itertools\n",
    "import os\n",
    "import pylhe\n",
    "pylhe.register_awkward()\n",
    "\n",
    "lhe_file = \"test_pp_mumu/Events/run_01/unweighted_events.lhe\"\n",
    "\n",
    "# check if file is needs to be unzipped\n",
    "if os.path.isfile(f\"{lhe_file}.gz\"):\n",
    "    os.system(f\"gunzip {lhe_file}.gz\")\n",
    "\n",
    "events = pylhe.read_lhe_with_attributes(lhe_file)\n",
    "n_events = pylhe.read_num_events(lhe_file)\n",
    "print(f\"Number of events: {n_events}\")\n"
   ]
  },
  {
   "cell_type": "code",
   "execution_count": null,
   "metadata": {},
   "outputs": [],
   "source": [
    "event_array = pylhe.to_awkward(pylhe.read_lhe_with_attributes(lhe_file))"
   ]
  },
  {
   "cell_type": "code",
   "execution_count": null,
   "metadata": {},
   "outputs": [],
   "source": [
    "import matplotlib.pyplot as plt\n",
    "import numpy as np\n",
    "import mplhep as hep\n",
    "plt.style.use(hep.style.ROOT)\n",
    "\n",
    "outgoing_muon_mask = (event_array[\"particles\"][\"id\"] == 13) & (event_array[\"particles\"][\"status\"] == 1)\n",
    "outgoing_antimuon_mask = (event_array[\"particles\"][\"id\"] == -13) & (event_array[\"particles\"][\"status\"] == 1)\n",
    "z = event_array[\"particles\"][\"vector\"][outgoing_muon_mask] + event_array[\"particles\"][\"vector\"][outgoing_antimuon_mask]"
   ]
  },
  {
   "cell_type": "code",
   "execution_count": null,
   "metadata": {},
   "outputs": [],
   "source": [
    "plt.figure()\n",
    "plt.subplot(211)\n",
    "plt.hist(z.pt, bins=np.linspace(0, 120, 100), label='MadGraph')\n",
    "plt.xlabel(\"$p_{T}(Z)$ [GeV]\")\n",
    "plt.ylabel(\"Events\")\n",
    "plt.legend()\n",
    "plt.subplot(212)\n",
    "plt.hist(z.m, bins=np.linspace(60, 120, 100), label='MadGraph')\n",
    "plt.xlabel(\"$m(Z)$ [GeV]\")\n",
    "plt.ylabel(\"Events\")\n",
    "plt.legend()\n",
    "plt.tight_layout()\n",
    "plt.savefig(\"madgraph.pdf\")"
   ]
  },
  {
   "cell_type": "code",
   "execution_count": null,
   "metadata": {},
   "outputs": [],
   "source": [
    "import pyhepmc\n",
    "with pyhepmc.open(\"test_pp_mumu_pythia/Events/run_01/tag_1_pythia8_events.hepmc\") as f:\n",
    "    event = f.read()\n",
    "event"
   ]
  },
  {
   "cell_type": "code",
   "execution_count": null,
   "metadata": {},
   "outputs": [],
   "source": [
    "import numpy as np\n",
    "z_m = []\n",
    "z_pt = []\n",
    "with pyhepmc.open(\"test_pp_mumu_pythia/Events/run_01/tag_1_pythia8_events.hepmc\") as f:\n",
    "    for event in f:\n",
    "        for p in event.particles:\n",
    "            if p.pid == 13 and p.status == 1:\n",
    "                muon = p.momentum\n",
    "            if p.pid == -13 and p.status == 1:\n",
    "                antimuon = p.momentum\n",
    "        z = muon + antimuon\n",
    "        z_m.append(z.m() / 1000)\n",
    "        z_pt.append(z.pt() / 1000)"
   ]
  },
  {
   "cell_type": "code",
   "execution_count": null,
   "metadata": {},
   "outputs": [],
   "source": [
    "import matplotlib.pyplot as plt\n",
    "import numpy as np\n",
    "import mplhep as hep\n",
    "plt.style.use(hep.style.ROOT)\n",
    "plt.figure()\n",
    "plt.subplot(211)\n",
    "plt.hist(z_pt, bins=np.linspace(0, 120, 100), label='MadGraph+Pythia')\n",
    "plt.xlabel(\"$p_{T}(Z)$ [GeV]\")\n",
    "plt.ylabel(\"Events\")\n",
    "plt.legend()\n",
    "plt.subplot(212)\n",
    "plt.hist(z_m, bins=np.linspace(60, 120, 100), label='MadGraph+Pythia')\n",
    "plt.xlabel(\"$m(Z)$ [GeV]\")\n",
    "plt.ylabel(\"Events\")\n",
    "plt.legend()\n",
    "plt.tight_layout()\n",
    "plt.savefig(\"madgraph_p_pythia.pdf\")"
   ]
  },
  {
   "cell_type": "code",
   "execution_count": null,
   "metadata": {},
   "outputs": [],
   "source": []
  }
 ],
 "metadata": {
  "kernelspec": {
   "display_name": "phys239",
   "language": "python",
   "name": "python3"
  },
  "language_info": {
   "codemirror_mode": {
    "name": "ipython",
    "version": 3
   },
   "file_extension": ".py",
   "mimetype": "text/x-python",
   "name": "python",
   "nbconvert_exporter": "python",
   "pygments_lexer": "ipython3",
   "version": "3.10.10"
  },
  "orig_nbformat": 4
 },
 "nbformat": 4,
 "nbformat_minor": 2
}
