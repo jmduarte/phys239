{
 "cells": [
  {
   "cell_type": "code",
   "execution_count": null,
   "metadata": {},
   "outputs": [],
   "source": [
    "import itertools\n",
    "import pylhe\n",
    "pylhe.register_awkward()\n",
    "\n",
    "lhe_file = \"newprocess/Events/run_01/unweighted_events.lhe\"\n",
    "events = pylhe.read_lhe_with_attributes(lhe_file)\n",
    "n_events = pylhe.read_num_events(lhe_file)\n",
    "print(f\"Number of events: {n_events}\")\n"
   ]
  },
  {
   "cell_type": "code",
   "execution_count": null,
   "metadata": {},
   "outputs": [],
   "source": [
    "# Get event 1\n",
    "event = next(itertools.islice(events, 1, 2))\n",
    "\n",
    "# A DOT language graph of the event can be inspected as follows\n",
    "print(event.graph.source)"
   ]
  },
  {
   "cell_type": "code",
   "execution_count": null,
   "metadata": {},
   "outputs": [],
   "source": [
    "# The graph is nicely displayed as SVG in Jupyter notebooks\n",
    "event\n"
   ]
  },
  {
   "cell_type": "code",
   "execution_count": null,
   "metadata": {},
   "outputs": [],
   "source": [
    "event_array = pylhe.to_awkward(pylhe.read_lhe_with_attributes(lhe_file))"
   ]
  },
  {
   "cell_type": "code",
   "execution_count": null,
   "metadata": {},
   "outputs": [],
   "source": [
    "event_array[\"particles\"][\"vector\"]"
   ]
  },
  {
   "cell_type": "code",
   "execution_count": null,
   "metadata": {},
   "outputs": [],
   "source": [
    "import matplotlib.pyplot as plt\n",
    "import numpy as np\n",
    "import mplhep as hep\n",
    "plt.style.use(hep.style.ROOT)"
   ]
  },
  {
   "cell_type": "code",
   "execution_count": null,
   "metadata": {},
   "outputs": [],
   "source": [
    "muon_mask = event_array[\"particles\"][\"id\"] == 13\n",
    "\n",
    "bin_width = 0.02\n",
    "bins = np.arange(-1, 1+bin_width, bin_width)\n",
    "plt.hist(event_array[\"particles\"][\"vector\"][muon_mask].costheta, bins=bins, label=\"MadGraph\")\n",
    "plt.xlabel(r\"$\\cos\\theta({\\mu^-})$\")\n",
    "plt.plot(bins, bin_width * n_events * (1 + bins**2) / (8/3), label = r\"$1+\\cos^2\\theta(\\mu^-)$\")\n",
    "plt.xlim(-1, 1)\n",
    "plt.ylabel(\"Events\")\n",
    "plt.legend()\n",
    "plt.show()\n"
   ]
  },
  {
   "cell_type": "code",
   "execution_count": null,
   "metadata": {},
   "outputs": [],
   "source": []
  }
 ],
 "metadata": {
  "kernelspec": {
   "display_name": "phys239",
   "language": "python",
   "name": "python3"
  },
  "language_info": {
   "codemirror_mode": {
    "name": "ipython",
    "version": 3
   },
   "file_extension": ".py",
   "mimetype": "text/x-python",
   "name": "python",
   "nbconvert_exporter": "python",
   "pygments_lexer": "ipython3",
   "version": "3.10.10"
  },
  "orig_nbformat": 4
 },
 "nbformat": 4,
 "nbformat_minor": 2
}
