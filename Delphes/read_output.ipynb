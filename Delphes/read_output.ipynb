{
 "cells": [
  {
   "cell_type": "code",
   "execution_count": null,
   "metadata": {},
   "outputs": [],
   "source": [
    "from coffea import nanoevents\n",
    "import awkward as ak\n",
    "\n",
    "fname = \"output.root\"\n",
    "\n",
    "events = nanoevents.NanoEventsFactory.from_root(\n",
    "    fname, schemaclass=nanoevents.DelphesSchema, treepath=\"Delphes\"\n",
    ")\n"
   ]
  },
  {
   "cell_type": "code",
   "execution_count": null,
   "metadata": {},
   "outputs": [],
   "source": [
    "data = events.events()\n",
    "print(len(data))\n",
    "\n",
    "data.Jet.pt"
   ]
  },
  {
   "cell_type": "code",
   "execution_count": null,
   "metadata": {},
   "outputs": [],
   "source": [
    "\n",
    "mask = ak.num(data.Muon) >= 2\n",
    "\n",
    "muons = data.Muon[mask]\n",
    "leading_muons = muons[:,0]\n",
    "\n",
    "print(muons.pt)\n",
    "print(leading_muons.pt)"
   ]
  },
  {
   "cell_type": "code",
   "execution_count": null,
   "metadata": {},
   "outputs": [],
   "source": [
    "import matplotlib.pyplot as plt\n",
    "import mplhep as hep\n",
    "\n",
    "plt.style.use(hep.style.CMS)\n",
    "plt.hist(ak.flatten(leading_muons.pt, axis=None), bins=50, range=(0, 100))\n",
    "plt.savefig(\"leaing_muon_pt.pdf\")"
   ]
  },
  {
   "cell_type": "code",
   "execution_count": null,
   "metadata": {},
   "outputs": [],
   "source": [
    "(muons[:,0] + muons[:,1]).mass\n",
    "\n",
    "plt.style.use(hep.style.CMS)\n",
    "plt.hist(ak.flatten((muons[:,0] + muons[:,1]).mass, axis=None), bins=50, range=(60, 120))\n",
    "plt.savefig(\"muon_invariant_mass.pdf\")"
   ]
  },
  {
   "cell_type": "code",
   "execution_count": null,
   "metadata": {},
   "outputs": [],
   "source": []
  }
 ],
 "metadata": {
  "kernelspec": {
   "display_name": "phys239",
   "language": "python",
   "name": "python3"
  },
  "language_info": {
   "codemirror_mode": {
    "name": "ipython",
    "version": 3
   },
   "file_extension": ".py",
   "mimetype": "text/x-python",
   "name": "python",
   "nbconvert_exporter": "python",
   "pygments_lexer": "ipython3",
   "version": "3.10.10"
  },
  "orig_nbformat": 4
 },
 "nbformat": 4,
 "nbformat_minor": 2
}
